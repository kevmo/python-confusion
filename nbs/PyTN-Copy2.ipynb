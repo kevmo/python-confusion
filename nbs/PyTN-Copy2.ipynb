{
 "cells": [
  {
   "cell_type": "markdown",
   "metadata": {},
   "source": [
    "# Using Data Science To Identify Confusion Amongst Python Programmers "
   ]
  },
  {
   "cell_type": "markdown",
   "metadata": {},
   "source": [
    "Today's Goal: Get started with data science workflows and tooling in a real-life scenario."
   ]
  },
  {
   "cell_type": "markdown",
   "metadata": {},
   "source": [
    "## It's a Typical Monday At Work And...."
   ]
  },
  {
   "cell_type": "markdown",
   "metadata": {},
   "source": [
    "Harriet Human-Resources, the VP of Training and Interviewing, comes in and says \n",
    "\n",
    "> We need to figure out a better way to assess candidates for skills in particular programming languages.  We also need to make our internal training programs for teaching employees better.  The CTO says we're going to build most things in Python. \n",
    "\n",
    "> We’re going to put a team on these problems, but they need more information about how to .  I know you’re busy with 100 other things, but can you give us some insight at Friday’s meeting? Maybe after the meeting, we can have a talk about that raise you asked for.”"
   ]
  },
  {
   "cell_type": "markdown",
   "metadata": {},
   "source": [
    "## What do you do?\n",
    "\n",
    "For starters, you're going to set up this Jupyter notebook.  Hit `ESC` + `h` to see the Jupyter Help menu."
   ]
  },
  {
   "cell_type": "markdown",
   "metadata": {},
   "source": [
    "### Setting up the Worksheet"
   ]
  },
  {
   "cell_type": "markdown",
   "metadata": {},
   "source": [
    "Put these at the top of every notebook, to get automatic reloading and inline plotting:"
   ]
  },
  {
   "cell_type": "code",
   "execution_count": 4,
   "metadata": {},
   "outputs": [],
   "source": [
    "%reload_ext autoreload\n",
    "%autoreload 2\n",
    "%matplotlib inline"
   ]
  },
  {
   "cell_type": "markdown",
   "metadata": {},
   "source": [
    "## A Workflow For Thinking About the Problem And The Solution"
   ]
  },
  {
   "cell_type": "markdown",
   "metadata": {},
   "source": [
    "...."
   ]
  },
  {
   "cell_type": "markdown",
   "metadata": {},
   "source": [
    "## The Workflow"
   ]
  },
  {
   "cell_type": "markdown",
   "metadata": {},
   "source": [
    "1. Identify the question you are trying to ask.\n",
    "2. Identify and collect the data.\n",
    "3. Explore the data.\n",
    "4. Model data.\n",
    "5. Communicate and visualize results.\n",
    "6. Repeat various steps until you and/or a domain expert is satisfied."
   ]
  },
  {
   "cell_type": "markdown",
   "metadata": {},
   "source": [
    "## Step 1: Identify The Question\n",
    "----------------------------------------"
   ]
  },
  {
   "cell_type": "markdown",
   "metadata": {},
   "source": [
    "In which areas do Python programmers struggle the most?  "
   ]
  },
  {
   "cell_type": "markdown",
   "metadata": {},
   "source": [
    "## Step 2: Identify and collect the data\n",
    "------------------------------------------------"
   ]
  },
  {
   "cell_type": "markdown",
   "metadata": {},
   "source": [
    "Stack Overflow has a lot of excellent data.  Say that you don't want to use their API for some reason.  So instead you're going to scrape their pages.  Go find the best pages for Python information and scrape them."
   ]
  },
  {
   "cell_type": "code",
   "execution_count": 10,
   "metadata": {},
   "outputs": [],
   "source": [
    "STACK_OVERFLOW_URL = \"https://stackoverflow.com/questions/tagged/python?sort=votes&pageSize=15\""
   ]
  },
  {
   "cell_type": "markdown",
   "metadata": {},
   "source": [
    "### The `requests` library"
   ]
  },
  {
   "cell_type": "code",
   "execution_count": 11,
   "metadata": {},
   "outputs": [],
   "source": [
    "import requests"
   ]
  },
  {
   "cell_type": "markdown",
   "metadata": {},
   "source": [
    "[Requests](http://docs.python-requests.org/en/master/) is a library that provides a pleasing API wrapper for HTTP requests, i.e., makes sending cumbersome-looking requests out of pleasing Python code.  Getting the text from a webpage is as simple as one line of code:"
   ]
  },
  {
   "cell_type": "code",
   "execution_count": 19,
   "metadata": {},
   "outputs": [],
   "source": [
    "stack_overflow_response = requests.get(STACK_OVERFLOW_URL)\n",
    "\n",
    "stack_overflow_html = stack_overflow_response.content\n",
    "\n",
    "# print(stack_overflow_html)"
   ]
  },
  {
   "cell_type": "markdown",
   "metadata": {},
   "source": [
    "However, this data is just a mass of text at this point.  It needs to be parsed into a usable data structure...."
   ]
  },
  {
   "cell_type": "markdown",
   "metadata": {},
   "source": [
    "## Step 3: Explore the Data\n",
    "----------------------------------"
   ]
  },
  {
   "cell_type": "markdown",
   "metadata": {},
   "source": [
    "### The `BeautifulSoup` library\n",
    "\n",
    "[Beautiful Soup](https://www.crummy.com/software/BeautifulSoup/) is the most popular HTML parsing in the Python package ecosystem. You tell it which parsing engine you want it to use, feed in an HTML text file, and its top-level object returns a parsable data structure."
   ]
  },
  {
   "cell_type": "code",
   "execution_count": 25,
   "metadata": {},
   "outputs": [],
   "source": [
    "from bs4 import BeautifulSoup"
   ]
  },
  {
   "cell_type": "code",
   "execution_count": 27,
   "metadata": {},
   "outputs": [],
   "source": [
    "PARSER = 'html.parser'\n",
    "\n",
    "soup = BeautifulSoup(stack_overflow_html, PARSER)\n",
    "\n",
    "# questions = soup.find_all(\"a\", \"question-hyperlink\")\n",
    "questions = soup.find_all(\"div\", class_=\"question-summary\")\n",
    "\n",
    "# print(questions)"
   ]
  },
  {
   "cell_type": "markdown",
   "metadata": {},
   "source": [
    "OK, so now we have an array of Beautiful Soup objects:"
   ]
  },
  {
   "cell_type": "code",
   "execution_count": 35,
   "metadata": {},
   "outputs": [
    {
     "name": "stdout",
     "output_type": "stream",
     "text": [
      "TYPE:  <class 'bs4.element.Tag'>\n"
     ]
    }
   ],
   "source": [
    "first_question = questions[0]\n",
    "\n",
    "print('TYPE: ', type(first_question))\n",
    "# print('-------------------------')\n",
    "# print('DIR:')\n",
    "# print(dir(first_question))\n",
    "# print('-------------------------')\n",
    "# print(questions[0])"
   ]
  },
  {
   "cell_type": "markdown",
   "metadata": {},
   "source": [
    "Now use the `text` method on the Beautiful Soup Tag object to get the meat\n",
    "of the data that you want:"
   ]
  },
  {
   "cell_type": "code",
   "execution_count": 22,
   "metadata": {},
   "outputs": [
    {
     "name": "stdout",
     "output_type": "stream",
     "text": [
      "[('What', 1551636), ('does', 1551636), ('the', 1551636), ('“yield”', 1551636), ('keyword', 1551636), ('do?', 1551636), ('What', 554185), ('are', 554185), ('metaclasses', 554185), ('in', 554185), ('Python?', 554185), ('How', 2469775), ('do', 2469775), ('I', 2469775), ('check', 2469775), ('whether', 2469775), ('a', 2469775), ('file', 2469775), ('exists', 2469775), ('using', 2469775), ('Python?', 2469775), ('Does', 1163943), ('Python', 1163943), ('have', 1163943), ('a', 1163943), ('ternary', 1163943), ('conditional', 1163943), ('operator?', 1163943), ('What', 1456417), ('does', 1456417), ('if', 1456417), ('__name__', 1456417), ('==', 1456417), ('“__main__”:', 1456417), ('do?', 1456417), ('Calling', 2266313), ('an', 2266313), ('external', 2266313), ('command', 2266313), ('in', 2266313), ('Python', 2266313), ('How', 987013), ('to', 987013), ('merge', 987013), ('two', 987013), ('dictionaries', 987013), ('in', 987013), ('a', 987013), ('single', 987013), ('expression?', 987013), ('How', 1558991), ('do', 1558991), ('I', 1558991), ('sort', 1558991), ('a', 1558991), ('dictionary', 1558991), ('by', 1558991), ('value?', 1558991), ('How', 1582339), ('can', 1582339), ('I', 1582339), ('create', 1582339), ('a', 1582339), ('directory', 1582339), ('if', 1582339), ('it', 1582339), ('does', 1582339), ('not', 1582339), ('exist?', 1582339), ('Does', 2125568), ('Python', 2125568), ('have', 2125568), ('a', 2125568), ('string', 2125568), (\"'contains'\", 2125568), ('substring', 2125568), ('method?', 2125568), ('How', 1436950), ('do', 1436950), ('I', 1436950), ('check', 1436950), ('if', 1436950), ('a', 1436950), ('list', 1436950), ('is', 1436950), ('empty?', 1436950), ('How', 1991597), ('do', 1991597), ('I', 1991597), ('list', 1991597), ('all', 1991597), ('files', 1991597), ('of', 1991597), ('a', 1991597), ('directory?', 1991597), ('Difference', 1896981), ('between', 1896981), ('append', 1896981), ('vs.', 1896981), ('extend', 1896981), ('list', 1896981), ('methods', 1896981), ('in', 1896981), ('Python', 1896981), ('What', 464558), ('is', 464558), ('the', 464558), ('difference', 464558), ('between', 464558), ('@staticmethod', 464558), ('and', 464558), ('@classmethod', 464558), ('in', 464558), ('Python?', 464558), ('How', 411237), ('to', 411237), ('make', 411237), ('a', 411237), ('chain', 411237), ('of', 411237), ('function', 411237), ('decorators?', 411237), ('Using', 2377361), ('global', 2377361), ('variables', 2377361), ('in', 2377361), ('a', 2377361), ('function', 2377361), ('other', 2377361), ('than', 2377361), ('the', 2377361), ('one', 2377361), ('that', 2377361), ('created', 2377361), ('them', 2377361), ('Accessing', 1112295), ('the', 1112295), ('index', 1112295), ('in', 1112295), ('Python', 1112295), (\"'for'\", 1112295), ('loops', 1112295), ('How', 2075358), ('do', 2075358), ('I', 2075358), ('install', 2075358), ('pip', 2075358), ('on', 2075358), ('Windows?', 2075358), ('Understanding', 987477), (\"Python's\", 987477), ('slice', 987477), ('notation', 987477), ('Finding', 2112003), ('the', 2112003), ('index', 2112003), ('of', 2112003), ('an', 2112003), ('item', 2112003), ('given', 2112003), ('a', 2112003), ('list', 2112003), ('containing', 2112003), ('it', 2112003), ('in', 2112003), ('Python', 2112003), ('How', 853546), ('do', 853546), ('I', 853546), ('pass', 853546), ('a', 853546), ('variable', 853546), ('by', 853546), ('reference?', 853546), ('Difference', 408984), ('between', 408984), ('__str__', 408984), ('and', 408984), ('__repr__', 408984), ('in', 408984), ('Python', 408984), ('“Least', 102988), ('Astonishment”', 102988), ('and', 102988), ('the', 102988), ('Mutable', 102988), ('Default', 102988), ('Argument', 102988), ('Check', 1821910), ('if', 1821910), ('a', 1821910), ('given', 1821910), ('key', 1821910), ('already', 1821910), ('exists', 1821910), ('in', 1821910), ('a', 1821910), ('dictionary', 1821910), ('Understanding', 1166435), ('Python', 1166435), ('super()', 1166435), ('with', 1166435), ('__init__()', 1166435), ('methods', 1166435), ('[duplicate]', 1166435), ('Iterating', 2382378), ('over', 2382378), ('dictionaries', 2382378), ('using', 2382378), (\"'for'\", 2382378), ('loops', 2382378), ('Making', 939789), ('a', 939789), ('flat', 939789), ('list', 939789), ('out', 939789), ('of', 939789), ('list', 939789), ('of', 939789), ('lists', 939789), ('in', 939789), ('Python', 939789), ('Catch', 387154), ('multiple', 387154), ('exceptions', 387154), ('in', 387154), ('one', 387154), ('line', 387154), ('(except', 387154), ('block)', 387154), ('How', 1791729), ('can', 1791729), ('I', 1791729), ('make', 1791729), ('a', 1791729), ('time', 1791729), ('delay', 1791729), ('in', 1791729), ('Python?', 1791729), ('Is', 443144), ('there', 443144), ('a', 443144), ('way', 443144), ('to', 443144), ('run', 443144), ('Python', 443144), ('on', 443144), ('Android?', 443144), ('How', 1766215), ('to', 1766215), ('get', 1766215), ('current', 1766215), ('time', 1766215), ('in', 1766215), ('Python?', 1766215), ('Add', 1850000), ('new', 1850000), ('keys', 1850000), ('to', 1850000), ('a', 1850000), ('dictionary?', 1850000), ('Parse', 2634403), ('String', 2634403), ('to', 2634403), ('Float', 2634403), ('or', 2634403), ('Int', 2634403), ('How', 1204604), ('do', 1204604), ('I', 1204604), ('install', 1204604), ('pip', 1204604), ('on', 1204604), ('macOS', 1204604), ('or', 1204604), ('OS', 1204604), ('X?', 1204604), ('How', 850689), ('to', 850689), ('clone', 850689), ('or', 850689), ('copy', 850689), ('a', 850689), ('list?', 850689), ('Hidden', 607657), ('features', 607657), ('of', 607657), ('Python', 607657), ('[closed]', 607657), ('How', 1140851), ('to', 1140851), ('concatenate', 1140851), ('two', 1140851), ('lists', 1140851), ('in', 1140851), ('Python?', 1140851), ('Is', 1747260), ('there', 1747260), ('a', 1747260), ('way', 1747260), ('to', 1747260), ('substring', 1747260), ('a', 1747260), ('string', 1747260), ('in', 1747260), ('Python?', 1747260), ('How', 532369), ('do', 532369), ('you', 532369), ('split', 532369), ('a', 532369), ('list', 532369), ('into', 532369), ('evenly', 532369), ('sized', 532369), ('chunks?', 532369), ('Print', 661640), ('in', 661640), ('terminal', 661640), ('with', 661640), ('colors?', 661640), ('Static', 820636), ('class', 820636), ('variables', 820636), ('in', 820636), ('Python', 820636), ('How', 2064039), ('to', 2064039), ('get', 2064039), ('the', 2064039), ('number', 2064039), ('of', 2064039), ('elements', 2064039), ('in', 2064039), ('a', 2064039), ('list', 2064039), ('in', 2064039), ('Python?', 2064039), ('What', 339012), ('does', 339012), ('**', 339012), ('(double', 339012), ('star/asterisk)', 339012), ('and', 339012), ('*', 339012), ('(star/asterisk)', 339012), ('do', 339012), ('for', 339012), ('parameters?', 339012), ('Static', 666539), ('methods', 666539), ('in', 666539), ('Python?', 666539), ('Upgrading', 683915), ('all', 683915), ('packages', 683915), ('with', 683915), ('pip', 683915), ('Manually', 864626), ('raising', 864626), ('(throwing)', 864626), ('an', 864626), ('exception', 864626), ('in', 864626), ('Python', 864626), ('Find', 1412296), ('current', 1412296), ('directory', 1412296), ('and', 1412296), (\"file's\", 1412296), ('directory', 1412296), ('[duplicate]', 1412296), ('Python', 898223), ('join:', 898223), ('why', 898223), ('is', 898223), ('it', 898223), ('string.join(list)', 898223), ('instead', 898223), ('of', 898223), ('list.join(string)?', 898223), ('How', 1414189), ('to', 1414189), ('convert', 1414189), ('string', 1414189), ('to', 1414189), ('lowercase', 1414189), ('in', 1414189), ('Python', 1414189), ('Converting', 1467069), ('string', 1467069), ('into', 1467069), ('datetime', 1467069), ('What', 1551636), ('does', 1551636), ('the', 1551636), ('“yield”', 1551636), ('keyword', 1551636), ('do?', 1551636), ('What', 554185), ('are', 554185), ('metaclasses', 554185), ('in', 554185), ('Python?', 554185), ('How', 2469775), ('do', 2469775), ('I', 2469775), ('check', 2469775), ('whether', 2469775), ('a', 2469775), ('file', 2469775), ('exists', 2469775), ('using', 2469775), ('Python?', 2469775), ('Does', 1163943), ('Python', 1163943), ('have', 1163943), ('a', 1163943), ('ternary', 1163943), ('conditional', 1163943), ('operator?', 1163943), ('What', 1456417), ('does', 1456417), ('if', 1456417), ('__name__', 1456417), ('==', 1456417), ('“__main__”:', 1456417), ('do?', 1456417), ('Calling', 2266315), ('an', 2266315), ('external', 2266315), ('command', 2266315), ('in', 2266315), ('Python', 2266315), ('How', 987013), ('to', 987013), ('merge', 987013), ('two', 987013), ('dictionaries', 987013), ('in', 987013), ('a', 987013), ('single', 987013), ('expression?', 987013), ('How', 1558993), ('do', 1558993), ('I', 1558993), ('sort', 1558993), ('a', 1558993), ('dictionary', 1558993), ('by', 1558993), ('value?', 1558993), ('How', 1582340), ('can', 1582340), ('I', 1582340), ('create', 1582340), ('a', 1582340), ('directory', 1582340), ('if', 1582340), ('it', 1582340), ('does', 1582340), ('not', 1582340), ('exist?', 1582340), ('Does', 2125570), ('Python', 2125570), ('have', 2125570), ('a', 2125570), ('string', 2125570), (\"'contains'\", 2125570), ('substring', 2125570), ('method?', 2125570), ('How', 1436951), ('do', 1436951), ('I', 1436951), ('check', 1436951), ('if', 1436951), ('a', 1436951), ('list', 1436951), ('is', 1436951), ('empty?', 1436951), ('How', 1991599), ('do', 1991599), ('I', 1991599), ('list', 1991599), ('all', 1991599), ('files', 1991599), ('of', 1991599), ('a', 1991599), ('directory?', 1991599), ('Difference', 1896983), ('between', 1896983), ('append', 1896983), ('vs.', 1896983), ('extend', 1896983), ('list', 1896983), ('methods', 1896983), ('in', 1896983), ('Python', 1896983), ('What', 464558), ('is', 464558), ('the', 464558), ('difference', 464558), ('between', 464558), ('@staticmethod', 464558), ('and', 464558), ('@classmethod', 464558), ('in', 464558), ('Python?', 464558), ('How', 411237), ('to', 411237), ('make', 411237), ('a', 411237), ('chain', 411237), ('of', 411237), ('function', 411237), ('decorators?', 411237), ('Using', 2377361), ('global', 2377361), ('variables', 2377361), ('in', 2377361), ('a', 2377361), ('function', 2377361), ('other', 2377361), ('than', 2377361), ('the', 2377361), ('one', 2377361), ('that', 2377361), ('created', 2377361), ('them', 2377361), ('Accessing', 1112297), ('the', 1112297), ('index', 1112297), ('in', 1112297), ('Python', 1112297), (\"'for'\", 1112297), ('loops', 1112297), ('How', 2075359), ('do', 2075359), ('I', 2075359), ('install', 2075359), ('pip', 2075359), ('on', 2075359), ('Windows?', 2075359), ('Understanding', 987477), (\"Python's\", 987477), ('slice', 987477), ('notation', 987477), ('Finding', 2112004), ('the', 2112004), ('index', 2112004), ('of', 2112004), ('an', 2112004), ('item', 2112004), ('given', 2112004), ('a', 2112004), ('list', 2112004), ('containing', 2112004), ('it', 2112004), ('in', 2112004), ('Python', 2112004), ('How', 853546), ('do', 853546), ('I', 853546), ('pass', 853546), ('a', 853546), ('variable', 853546), ('by', 853546), ('reference?', 853546), ('Difference', 408984), ('between', 408984), ('__str__', 408984), ('and', 408984), ('__repr__', 408984), ('in', 408984), ('Python', 408984), ('“Least', 102989), ('Astonishment”', 102989), ('and', 102989), ('the', 102989), ('Mutable', 102989), ('Default', 102989), ('Argument', 102989), ('Check', 1821910), ('if', 1821910), ('a', 1821910), ('given', 1821910), ('key', 1821910), ('already', 1821910), ('exists', 1821910), ('in', 1821910), ('a', 1821910), ('dictionary', 1821910), ('Understanding', 1166435), ('Python', 1166435), ('super()', 1166435), ('with', 1166435), ('__init__()', 1166435), ('methods', 1166435), ('[duplicate]', 1166435), ('Iterating', 2382379), ('over', 2382379), ('dictionaries', 2382379), ('using', 2382379), (\"'for'\", 2382379), ('loops', 2382379), ('Making', 939789), ('a', 939789), ('flat', 939789), ('list', 939789), ('out', 939789), ('of', 939789), ('list', 939789), ('of', 939789), ('lists', 939789), ('in', 939789), ('Python', 939789), ('Catch', 387154), ('multiple', 387154), ('exceptions', 387154), ('in', 387154), ('one', 387154), ('line', 387154), ('(except', 387154), ('block)', 387154), ('How', 1791729), ('can', 1791729), ('I', 1791729), ('make', 1791729), ('a', 1791729), ('time', 1791729), ('delay', 1791729), ('in', 1791729), ('Python?', 1791729), ('Is', 443144), ('there', 443144), ('a', 443144), ('way', 443144), ('to', 443144), ('run', 443144), ('Python', 443144), ('on', 443144), ('Android?', 443144), ('How', 1766216), ('to', 1766216), ('get', 1766216), ('current', 1766216), ('time', 1766216), ('in', 1766216), ('Python?', 1766216), ('Add', 1850000), ('new', 1850000), ('keys', 1850000), ('to', 1850000), ('a', 1850000), ('dictionary?', 1850000), ('Parse', 2634404), ('String', 2634404), ('to', 2634404), ('Float', 2634404), ('or', 2634404), ('Int', 2634404), ('How', 1204604), ('do', 1204604), ('I', 1204604), ('install', 1204604), ('pip', 1204604), ('on', 1204604), ('macOS', 1204604), ('or', 1204604), ('OS', 1204604), ('X?', 1204604), ('How', 850689), ('to', 850689), ('clone', 850689), ('or', 850689), ('copy', 850689), ('a', 850689), ('list?', 850689), ('Hidden', 607657), ('features', 607657), ('of', 607657), ('Python', 607657), ('[closed]', 607657), ('How', 1140855), ('to', 1140855), ('concatenate', 1140855), ('two', 1140855), ('lists', 1140855), ('in', 1140855), ('Python?', 1140855), ('Is', 1747260), ('there', 1747260), ('a', 1747260), ('way', 1747260), ('to', 1747260), ('substring', 1747260), ('a', 1747260), ('string', 1747260), ('in', 1747260), ('Python?', 1747260), ('How', 532369), ('do', 532369), ('you', 532369), ('split', 532369), ('a', 532369), ('list', 532369), ('into', 532369), ('evenly', 532369), ('sized', 532369), ('chunks?', 532369), ('Print', 661640), ('in', 661640), ('terminal', 661640), ('with', 661640), ('colors?', 661640), ('Static', 820636), ('class', 820636), ('variables', 820636), ('in', 820636), ('Python', 820636), ('How', 2064042), ('to', 2064042), ('get', 2064042), ('the', 2064042), ('number', 2064042), ('of', 2064042), ('elements', 2064042), ('in', 2064042), ('a', 2064042), ('list', 2064042), ('in', 2064042), ('Python?', 2064042), ('What', 339012), ('does', 339012), ('**', 339012), ('(double', 339012), ('star/asterisk)', 339012), ('and', 339012), ('*', 339012), ('(star/asterisk)', 339012), ('do', 339012), ('for', 339012), ('parameters?', 339012), ('Static', 666539), ('methods', 666539), ('in', 666539), ('Python?', 666539), ('Upgrading', 683915), ('all', 683915), ('packages', 683915), ('with', 683915), ('pip', 683915), ('Manually', 864626), ('raising', 864626), ('(throwing)', 864626), ('an', 864626), ('exception', 864626), ('in', 864626), ('Python', 864626), ('Find', 1412296), ('current', 1412296), ('directory', 1412296), ('and', 1412296), (\"file's\", 1412296), ('directory', 1412296), ('[duplicate]', 1412296), ('Python', 898224), ('join:', 898224), ('why', 898224), ('is', 898224), ('it', 898224), ('string.join(list)', 898224), ('instead', 898224), ('of', 898224), ('list.join(string)?', 898224), ('How', 1414190), ('to', 1414190), ('convert', 1414190), ('string', 1414190), ('to', 1414190), ('lowercase', 1414190), ('in', 1414190), ('Python', 1414190), ('Converting', 1467070), ('string', 1467070), ('into', 1467070), ('datetime', 1467070)]\n"
     ]
    }
   ],
   "source": [
    "for i in range(len(questions)):\n",
    "    text = questions[i].find(class_='question-hyperlink').text\n",
    "    votes = questions[i].find(class_='supernova')['title'].split(\" \")[0].replace(',','')\n",
    "    \n",
    "    split_text = text.split(\" \")\n",
    "    \n",
    "    for x in range(len(split_text)):\n",
    "        row = (split_text[x], int(votes))\n",
    "        dataset.append(row)\n",
    "\n",
    "# print(dataset)"
   ]
  },
  {
   "cell_type": "markdown",
   "metadata": {},
   "source": [
    "Normally I would extract 100s of pages of this data and put it in separate files.\n",
    "\n",
    "But today, we're just looking for an in-memory example.  We will instead output it into a Python array."
   ]
  },
  {
   "cell_type": "code",
   "execution_count": 8,
   "metadata": {},
   "outputs": [],
   "source": [
    "import numpy as np\n",
    "import pandas as pd"
   ]
  },
  {
   "cell_type": "code",
   "execution_count": 9,
   "metadata": {},
   "outputs": [
    {
     "ename": "NameError",
     "evalue": "name 'dataset' is not defined",
     "output_type": "error",
     "traceback": [
      "\u001b[0;31m---------------------------------------------------------------------------\u001b[0m",
      "\u001b[0;31mNameError\u001b[0m                                 Traceback (most recent call last)",
      "\u001b[0;32m<ipython-input-9-04f088450e31>\u001b[0m in \u001b[0;36m<module>\u001b[0;34m()\u001b[0m\n\u001b[0;32m----> 1\u001b[0;31m \u001b[0mprint\u001b[0m\u001b[0;34m(\u001b[0m\u001b[0mdataset\u001b[0m\u001b[0;34m)\u001b[0m\u001b[0;34m\u001b[0m\u001b[0m\n\u001b[0m",
      "\u001b[0;31mNameError\u001b[0m: name 'dataset' is not defined"
     ]
    }
   ],
   "source": [
    "print(dataset)"
   ]
  },
  {
   "cell_type": "code",
   "execution_count": null,
   "metadata": {},
   "outputs": [],
   "source": []
  },
  {
   "cell_type": "code",
   "execution_count": 8,
   "metadata": {},
   "outputs": [],
   "source": [
    "# Use this code if I want to switch between files.\n",
    "\n",
    "# with open('data.txt', 'r') as f:\n",
    "#     res = f.readlines()\n",
    "\n",
    "# res = [x.split(\" \") for x in [y.strip() for y in res]]\n",
    "\n",
    "# flattened_res = [item for sublist in res for item in sublist]\n"
   ]
  },
  {
   "cell_type": "markdown",
   "metadata": {},
   "source": [
    "Stick it in an ndarray.\n",
    "\n"
   ]
  },
  {
   "cell_type": "markdown",
   "metadata": {},
   "source": [
    "### `ndarray` -- n-dimensions of your data."
   ]
  },
  {
   "cell_type": "markdown",
   "metadata": {},
   "source": [
    "So this data looks like it has two dimensions - the number of votes you have and all of the text. Let's separate that out with some simple Python."
   ]
  },
  {
   "cell_type": "markdown",
   "metadata": {},
   "source": [
    "### Pandas Dataframes"
   ]
  },
  {
   "cell_type": "code",
   "execution_count": 108,
   "metadata": {},
   "outputs": [
    {
     "ename": "TypeError",
     "evalue": "__init__() got an unexpected keyword argument 'dtypes'",
     "output_type": "error",
     "traceback": [
      "\u001b[0;31m---------------------------------------------------------------------------\u001b[0m",
      "\u001b[0;31mTypeError\u001b[0m                                 Traceback (most recent call last)",
      "\u001b[0;32m<ipython-input-108-30e4e0b724e8>\u001b[0m in \u001b[0;36m<module>\u001b[0;34m()\u001b[0m\n\u001b[0;32m----> 1\u001b[0;31m \u001b[0mdf\u001b[0m \u001b[0;34m=\u001b[0m \u001b[0mpd\u001b[0m\u001b[0;34m.\u001b[0m\u001b[0mDataFrame\u001b[0m\u001b[0;34m(\u001b[0m\u001b[0mdataset\u001b[0m\u001b[0;34m,\u001b[0m \u001b[0mcolumns\u001b[0m\u001b[0;34m=\u001b[0m\u001b[0;34m[\u001b[0m\u001b[0;34m\"votes\"\u001b[0m\u001b[0;34m,\u001b[0m \u001b[0;34m\"word\"\u001b[0m\u001b[0;34m]\u001b[0m\u001b[0;34m,\u001b[0m \u001b[0mdtypes\u001b[0m\u001b[0;34m=\u001b[0m\u001b[0;34m[\u001b[0m\u001b[0;34m'string'\u001b[0m\u001b[0;34m,\u001b[0m \u001b[0;34m'float64'\u001b[0m\u001b[0;34m]\u001b[0m\u001b[0;34m)\u001b[0m\u001b[0;34m\u001b[0m\u001b[0m\n\u001b[0m\u001b[1;32m      2\u001b[0m \u001b[0mprint\u001b[0m\u001b[0;34m(\u001b[0m\u001b[0mdf\u001b[0m\u001b[0;34m)\u001b[0m\u001b[0;34m\u001b[0m\u001b[0m\n",
      "\u001b[0;31mTypeError\u001b[0m: __init__() got an unexpected keyword argument 'dtypes'"
     ]
    }
   ],
   "source": [
    "df = pd.DataFrame(dataset, columns=[\"votes\", \"word\"], dtypes=['string', 'float64'])\n",
    "print(df)"
   ]
  },
  {
   "cell_type": "code",
   "execution_count": 107,
   "metadata": {},
   "outputs": [
    {
     "ename": "DataError",
     "evalue": "No numeric types to aggregate",
     "output_type": "error",
     "traceback": [
      "\u001b[0;31m---------------------------------------------------------------------------\u001b[0m",
      "\u001b[0;31mDataError\u001b[0m                                 Traceback (most recent call last)",
      "\u001b[0;32m<ipython-input-107-91f8789ccb90>\u001b[0m in \u001b[0;36m<module>\u001b[0;34m()\u001b[0m\n\u001b[0;32m----> 1\u001b[0;31m \u001b[0mdf2\u001b[0m \u001b[0;34m=\u001b[0m \u001b[0mdf\u001b[0m\u001b[0;34m.\u001b[0m\u001b[0mgroupby\u001b[0m\u001b[0;34m(\u001b[0m\u001b[0mby\u001b[0m\u001b[0;34m=\u001b[0m\u001b[0;34m'word'\u001b[0m\u001b[0;34m)\u001b[0m\u001b[0;34m.\u001b[0m\u001b[0mmean\u001b[0m\u001b[0;34m(\u001b[0m\u001b[0;34m)\u001b[0m\u001b[0;34m\u001b[0m\u001b[0m\n\u001b[0m\u001b[1;32m      2\u001b[0m \u001b[0;31m# print(df.columns)\u001b[0m\u001b[0;34m\u001b[0m\u001b[0;34m\u001b[0m\u001b[0m\n",
      "\u001b[0;32m/Library/Frameworks/Python.framework/Versions/3.6/lib/python3.6/site-packages/pandas/core/groupby.py\u001b[0m in \u001b[0;36mmean\u001b[0;34m(self, *args, **kwargs)\u001b[0m\n\u001b[1;32m   1126\u001b[0m         \u001b[0mnv\u001b[0m\u001b[0;34m.\u001b[0m\u001b[0mvalidate_groupby_func\u001b[0m\u001b[0;34m(\u001b[0m\u001b[0;34m'mean'\u001b[0m\u001b[0;34m,\u001b[0m \u001b[0margs\u001b[0m\u001b[0;34m,\u001b[0m \u001b[0mkwargs\u001b[0m\u001b[0;34m,\u001b[0m \u001b[0;34m[\u001b[0m\u001b[0;34m'numeric_only'\u001b[0m\u001b[0;34m]\u001b[0m\u001b[0;34m)\u001b[0m\u001b[0;34m\u001b[0m\u001b[0m\n\u001b[1;32m   1127\u001b[0m         \u001b[0;32mtry\u001b[0m\u001b[0;34m:\u001b[0m\u001b[0;34m\u001b[0m\u001b[0m\n\u001b[0;32m-> 1128\u001b[0;31m             \u001b[0;32mreturn\u001b[0m \u001b[0mself\u001b[0m\u001b[0;34m.\u001b[0m\u001b[0m_cython_agg_general\u001b[0m\u001b[0;34m(\u001b[0m\u001b[0;34m'mean'\u001b[0m\u001b[0;34m,\u001b[0m \u001b[0;34m**\u001b[0m\u001b[0mkwargs\u001b[0m\u001b[0;34m)\u001b[0m\u001b[0;34m\u001b[0m\u001b[0m\n\u001b[0m\u001b[1;32m   1129\u001b[0m         \u001b[0;32mexcept\u001b[0m \u001b[0mGroupByError\u001b[0m\u001b[0;34m:\u001b[0m\u001b[0;34m\u001b[0m\u001b[0m\n\u001b[1;32m   1130\u001b[0m             \u001b[0;32mraise\u001b[0m\u001b[0;34m\u001b[0m\u001b[0m\n",
      "\u001b[0;32m/Library/Frameworks/Python.framework/Versions/3.6/lib/python3.6/site-packages/pandas/core/groupby.py\u001b[0m in \u001b[0;36m_cython_agg_general\u001b[0;34m(self, how, alt, numeric_only, min_count)\u001b[0m\n\u001b[1;32m   3607\u001b[0m                             min_count=-1):\n\u001b[1;32m   3608\u001b[0m         new_items, new_blocks = self._cython_agg_blocks(\n\u001b[0;32m-> 3609\u001b[0;31m             how, alt=alt, numeric_only=numeric_only, min_count=min_count)\n\u001b[0m\u001b[1;32m   3610\u001b[0m         \u001b[0;32mreturn\u001b[0m \u001b[0mself\u001b[0m\u001b[0;34m.\u001b[0m\u001b[0m_wrap_agged_blocks\u001b[0m\u001b[0;34m(\u001b[0m\u001b[0mnew_items\u001b[0m\u001b[0;34m,\u001b[0m \u001b[0mnew_blocks\u001b[0m\u001b[0;34m)\u001b[0m\u001b[0;34m\u001b[0m\u001b[0m\n\u001b[1;32m   3611\u001b[0m \u001b[0;34m\u001b[0m\u001b[0m\n",
      "\u001b[0;32m/Library/Frameworks/Python.framework/Versions/3.6/lib/python3.6/site-packages/pandas/core/groupby.py\u001b[0m in \u001b[0;36m_cython_agg_blocks\u001b[0;34m(self, how, alt, numeric_only, min_count)\u001b[0m\n\u001b[1;32m   3679\u001b[0m \u001b[0;34m\u001b[0m\u001b[0m\n\u001b[1;32m   3680\u001b[0m         \u001b[0;32mif\u001b[0m \u001b[0mlen\u001b[0m\u001b[0;34m(\u001b[0m\u001b[0mnew_blocks\u001b[0m\u001b[0;34m)\u001b[0m \u001b[0;34m==\u001b[0m \u001b[0;36m0\u001b[0m\u001b[0;34m:\u001b[0m\u001b[0;34m\u001b[0m\u001b[0m\n\u001b[0;32m-> 3681\u001b[0;31m             \u001b[0;32mraise\u001b[0m \u001b[0mDataError\u001b[0m\u001b[0;34m(\u001b[0m\u001b[0;34m'No numeric types to aggregate'\u001b[0m\u001b[0;34m)\u001b[0m\u001b[0;34m\u001b[0m\u001b[0m\n\u001b[0m\u001b[1;32m   3682\u001b[0m \u001b[0;34m\u001b[0m\u001b[0m\n\u001b[1;32m   3683\u001b[0m         \u001b[0;31m# reset the locs in the blocks to correspond to our\u001b[0m\u001b[0;34m\u001b[0m\u001b[0;34m\u001b[0m\u001b[0m\n",
      "\u001b[0;31mDataError\u001b[0m: No numeric types to aggregate"
     ]
    }
   ],
   "source": [
    "df2 = df.groupby(by='word').mean()\n",
    "# print(df.columns)"
   ]
  },
  {
   "cell_type": "code",
   "execution_count": 106,
   "metadata": {},
   "outputs": [
    {
     "name": "stdout",
     "output_type": "stream",
     "text": [
      "<pandas.core.groupby.DataFrameGroupBy object at 0x115dd5390>\n"
     ]
    }
   ],
   "source": [
    "print(df2)"
   ]
  },
  {
   "cell_type": "markdown",
   "metadata": {},
   "source": [
    "### Pandas DataFrames"
   ]
  },
  {
   "cell_type": "markdown",
   "metadata": {},
   "source": [
    "## Step 4: Model The Data\n",
    "---------------------------------"
   ]
  },
  {
   "cell_type": "markdown",
   "metadata": {},
   "source": [
    "## Step 5: Visualize and Communicate The Data\n",
    "------------------------------------------------------------"
   ]
  },
  {
   "cell_type": "code",
   "execution_count": 7,
   "metadata": {},
   "outputs": [],
   "source": [
    "import matplotlib.pyplot as plt"
   ]
  },
  {
   "cell_type": "code",
   "execution_count": 39,
   "metadata": {},
   "outputs": [
    {
     "data": {
      "image/png": "[encoded data removed]",
      "text/plain": [
       "<matplotlib.figure.Figure at 0x1142f1be0>"
      ]
     },
     "metadata": {},
     "output_type": "display_data"
    }
   ],
   "source": [
    "x = np.linspace(0,10)\n",
    "line, = plt.plot(x, np.sin(x), '--', linewidth=2)"
   ]
  },
  {
   "cell_type": "markdown",
   "metadata": {},
   "source": [
    "## Step 6: Repeat As Necessary"
   ]
  },
  {
   "cell_type": "markdown",
   "metadata": {},
   "source": [
    "## Appendix A: Resources"
   ]
  },
  {
   "cell_type": "code",
   "execution_count": null,
   "metadata": {},
   "outputs": [],
   "source": []
  },
  {
   "cell_type": "code",
   "execution_count": null,
   "metadata": {},
   "outputs": [],
   "source": []
  }
 ],
 "metadata": {
  "kernelspec": {
   "display_name": "Python 3",
   "language": "python",
   "name": "python3"
  },
  "language_info": {
   "codemirror_mode": {
    "name": "ipython",
    "version": 3
   },
   "file_extension": ".py",
   "mimetype": "text/x-python",
   "name": "python",
   "nbconvert_exporter": "python",
   "pygments_lexer": "ipython3",
   "version": "3.6.2"
  }
 },
 "nbformat": 4,
 "nbformat_minor": 1
}
