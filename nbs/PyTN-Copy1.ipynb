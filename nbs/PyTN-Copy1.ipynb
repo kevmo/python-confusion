{
 "cells": [
  {
   "cell_type": "markdown",
   "metadata": {},
   "source": [
    "# Data Science Worksheet: Identifying Confusion Amongst Python Programmers"
   ]
  },
  {
   "cell_type": "markdown",
   "metadata": {},
   "source": [
    "## Introduction & Preliminaries"
   ]
  },
  {
   "cell_type": "markdown",
   "metadata": {},
   "source": [
    "....introduction...."
   ]
  },
  {
   "cell_type": "code",
   "execution_count": 1,
   "metadata": {},
   "outputs": [],
   "source": [
    "# Put these at the top of every notebook, to get automatic reloading and inline plotting\n",
    "%reload_ext autoreload\n",
    "%autoreload 2\n",
    "%matplotlib inline"
   ]
  },
  {
   "cell_type": "code",
   "execution_count": 2,
   "metadata": {},
   "outputs": [],
   "source": [
    "import matplotlib.pyplot as plt\n"
   ]
  },
  {
   "cell_type": "markdown",
   "metadata": {},
   "source": [
    "## The Scenario"
   ]
  },
  {
   "cell_type": "markdown",
   "metadata": {},
   "source": [
    "Harriet Human-Resources, the VP of Training and Interviewing, comes in and says “We need to figure out a better way to assess candidates for skills in particular programming languages.  We also need to make our internal training programs for teaching employees better.  We’re going to put a team on it, but they need more information about what to build.  I know you’re busy with 100 other things, but can you give us some insight at next week’s meeting? Maybe after the meeting, we can have a talk about that raise you asked for.”\n",
    "What do you do?\n"
   ]
  },
  {
   "cell_type": "markdown",
   "metadata": {},
   "source": [
    "## An Idea For a Solution"
   ]
  },
  {
   "cell_type": "markdown",
   "metadata": {},
   "source": [
    "...."
   ]
  },
  {
   "cell_type": "markdown",
   "metadata": {},
   "source": [
    "## The Workflow"
   ]
  },
  {
   "cell_type": "markdown",
   "metadata": {},
   "source": [
    "1. Identify the question you are trying to ask.\n",
    "2. Identify and collect the data.\n",
    "3. Explore the data.\n",
    "4. Model data.\n",
    "5. Communicate and visualize results.\n",
    "6. Repeat various steps until you and/or a domain expert is satisfied."
   ]
  },
  {
   "cell_type": "markdown",
   "metadata": {},
   "source": [
    "## Step 1: Identify The Question"
   ]
  },
  {
   "cell_type": "markdown",
   "metadata": {},
   "source": [
    "...."
   ]
  },
  {
   "cell_type": "markdown",
   "metadata": {},
   "source": [
    "## Step 2: Identify and collect the data"
   ]
  },
  {
   "cell_type": "code",
   "execution_count": 4,
   "metadata": {},
   "outputs": [],
   "source": [
    "import requests\n",
    "from bs4 import BeautifulSoup\n",
    "import numpy as np\n",
    "import pandas as pd"
   ]
  },
  {
   "cell_type": "markdown",
   "metadata": {},
   "source": [
    "### Requests and Beautiful Soup\n",
    "\n",
    "**requests** is provides a pleasing and easy-to-use API for making HTTP requests.\n",
    "\n",
    "**Beautiful Soup** is the "
   ]
  },
  {
   "cell_type": "code",
   "execution_count": 5,
   "metadata": {},
   "outputs": [],
   "source": [
    "STACK_OVERFLOW_URL = \"https://stackoverflow.com/questions/tagged/python?sort=votes&pageSize=15\"\n",
    "PARSER = 'html.parser'"
   ]
  },
  {
   "cell_type": "code",
   "execution_count": 6,
   "metadata": {},
   "outputs": [
    {
     "name": "stdout",
     "output_type": "stream",
     "text": [
      "0   What does the “yield” keyword do?\n",
      "1   What are metaclasses in Python?\n",
      "2   How do I check whether a file exists using Python?\n",
      "3   Does Python have a ternary conditional operator?\n",
      "4   What does if __name__ == “__main__”: do?\n",
      "5   Calling an external command in Python\n",
      "6   How to merge two dictionaries in a single expression?\n",
      "7   How do I sort a dictionary by value?\n",
      "8   How can I create a directory if it does not exist?\n",
      "9   How do I check if a list is empty?\n",
      "10   Does Python have a string 'contains' substring method?\n",
      "11   How do I list all files of a directory?\n",
      "12   Difference between append vs. extend list methods in Python\n",
      "13   What is the difference between @staticmethod and @classmethod in Python?\n",
      "14   How to make a chain of function decorators?\n",
      "15   Using global variables in a function other than the one that created them\n",
      "16   Accessing the index in Python 'for' loops\n",
      "17   How do I install pip on Windows?\n",
      "18   Understanding Python's slice notation\n",
      "19   Finding the index of an item given a list containing it in Python\n",
      "20   How do I pass a variable by reference?\n",
      "21   Difference between __str__ and __repr__ in Python\n",
      "22   “Least Astonishment” and the Mutable Default Argument\n",
      "23   Check if a given key already exists in a dictionary\n",
      "24   Understanding Python super() with __init__() methods [duplicate]\n",
      "25   Iterating over dictionaries using 'for' loops\n",
      "26   Making a flat list out of list of lists in Python\n",
      "27   Catch multiple exceptions in one line (except block)\n",
      "28   Is there a way to run Python on Android?\n",
      "29   How can I make a time delay in Python?\n",
      "30   How to get current time in Python?\n",
      "31   Add new keys to a dictionary?\n",
      "32   Parse String to Float or Int\n",
      "33   How do I install pip on macOS or OS X?\n",
      "34   How to clone or copy a list?\n",
      "35   Hidden features of Python [closed]\n",
      "36   How to concatenate two lists in Python?\n",
      "37   Is there a way to substring a string in Python?\n",
      "38   How do you split a list into evenly sized chunks?\n",
      "39   Static class variables in Python\n",
      "40   Print in terminal with colors?\n",
      "41   How to get the number of elements in a list in Python?\n",
      "42   What does ** (double star/asterisk) and * (star/asterisk) do for parameters?\n",
      "43   Static methods in Python?\n",
      "44   Upgrading all packages with pip\n",
      "45   Manually raising (throwing) an exception in Python\n",
      "46   Find current directory and file's directory [duplicate]\n",
      "47   Python join: why is it string.join(list) instead of list.join(string)?\n",
      "48   How to convert string to lowercase in Python\n",
      "49   Converting string into datetime\n"
     ]
    }
   ],
   "source": [
    "result = requests.get(STACK_OVERFLOW_URL)\n",
    "\n",
    "so_content = result.content\n",
    "\n",
    "# BeautifulSoup object\n",
    "# could also accept a filename instead of string\n",
    "soup = BeautifulSoup(so_content, PARSER)\n",
    "\n",
    "samples = soup.find_all(\"a\", \"question-hyperlink\")\n",
    "\n",
    "for s in range(len(samples)):\n",
    "    print(s, \" \", samples[s].text)\n"
   ]
  },
  {
   "cell_type": "markdown",
   "metadata": {},
   "source": [
    "Normally I would extract 100s of pages of this data and put it in separate files.\n",
    "\n",
    "But today, we're just looking for an in-memory example.  We will instead output it into a Python array."
   ]
  },
  {
   "cell_type": "markdown",
   "metadata": {},
   "source": [
    "## Step 3: Wrangle the Data"
   ]
  },
  {
   "cell_type": "markdown",
   "metadata": {},
   "source": []
  },
  {
   "cell_type": "code",
   "execution_count": 8,
   "metadata": {},
   "outputs": [],
   "source": [
    "# Use this code if I want to switch between files.\n",
    "\n",
    "# with open('data.txt', 'r') as f:\n",
    "#     res = f.readlines()\n",
    "\n",
    "# res = [x.split(\" \") for x in [y.strip() for y in res]]\n",
    "\n",
    "# flattened_res = [item for sublist in res for item in sublist]\n"
   ]
  },
  {
   "cell_type": "markdown",
   "metadata": {},
   "source": [
    "Stick it in an ndarray.\n",
    "\n"
   ]
  },
  {
   "cell_type": "markdown",
   "metadata": {},
   "source": [
    "### `ndarray` -- n-dimensions of your data."
   ]
  },
  {
   "cell_type": "markdown",
   "metadata": {},
   "source": [
    "So this data looks like it has two dimensions - the number of votes you have and all of the text. Let's separate that out with some simple Python."
   ]
  },
  {
   "cell_type": "code",
   "execution_count": null,
   "metadata": {},
   "outputs": [],
   "source": []
  },
  {
   "cell_type": "markdown",
   "metadata": {},
   "source": [
    "## Step 4: Model The Data"
   ]
  },
  {
   "cell_type": "markdown",
   "metadata": {},
   "source": [
    "## Step 5: Visualize and Communicate The Data"
   ]
  },
  {
   "cell_type": "markdown",
   "metadata": {},
   "source": [
    "## Step 6: Repeat As Necessary"
   ]
  },
  {
   "cell_type": "markdown",
   "metadata": {},
   "source": [
    "## Appendix A: Resources"
   ]
  },
  {
   "cell_type": "code",
   "execution_count": null,
   "metadata": {},
   "outputs": [],
   "source": []
  },
  {
   "cell_type": "code",
   "execution_count": null,
   "metadata": {},
   "outputs": [],
   "source": []
  }
 ],
 "metadata": {
  "kernelspec": {
   "display_name": "Python 3",
   "language": "python",
   "name": "python3"
  },
  "language_info": {
   "codemirror_mode": {
    "name": "ipython",
    "version": 3
   },
   "file_extension": ".py",
   "mimetype": "text/x-python",
   "name": "python",
   "nbconvert_exporter": "python",
   "pygments_lexer": "ipython3",
   "version": "3.6.2"
  }
 },
 "nbformat": 4,
 "nbformat_minor": 1
}
