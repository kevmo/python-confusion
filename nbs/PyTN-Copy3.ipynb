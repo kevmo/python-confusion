{
 "cells": [
  {
   "cell_type": "markdown",
   "metadata": {},
   "source": [
    "# Using Data Science To Identify Confusion Amongst Python Programmers "
   ]
  },
  {
   "cell_type": "markdown",
   "metadata": {},
   "source": [
    "Today's Goal: Get started with data science workflows and tooling in a real-life scenario."
   ]
  },
  {
   "cell_type": "markdown",
   "metadata": {},
   "source": [
    "## It's a Typical Monday At Work And...."
   ]
  },
  {
   "cell_type": "markdown",
   "metadata": {},
   "source": [
    "Harriet Human-Resources, the VP of Training and Interviewing, comes in and says \n",
    "\n",
    "> We need to figure out a better way to assess candidates for skills in particular programming languages.  We also need to make our internal training programs for teaching employees better.  The CTO says we're going to build most things in Python. \n",
    "\n",
    "> We’re going to put a team on these problems, but they need more information about how to .  I know you’re busy with 100 other things, but can you give us some insight at Friday’s meeting? \n",
    "\n",
    "> \"Maybe, after the meeting, we can have a talk about that raise you asked for.”"
   ]
  },
  {
   "cell_type": "markdown",
   "metadata": {},
   "source": [
    "## What do you do?\n",
    "\n",
    "For starters, you're going to set up this Jupyter notebook to keep track of your work.  Hit `ESC` + `h` to see the Jupyter Help menu."
   ]
  },
  {
   "cell_type": "markdown",
   "metadata": {},
   "source": [
    "### Setting up the Worksheet"
   ]
  },
  {
   "cell_type": "markdown",
   "metadata": {},
   "source": [
    "Put these at the top of every notebook, to get [automatic reloading](# https://ipython.org/ipython-doc/3/config/extensions/autoreload.html) of imported modules and inline plotting:"
   ]
  },
  {
   "cell_type": "code",
   "execution_count": 2,
   "metadata": {},
   "outputs": [],
   "source": [
    "%reload_ext autoreload \n",
    "%autoreload 2\n",
    "%matplotlib inline "
   ]
  },
  {
   "cell_type": "markdown",
   "metadata": {},
   "source": [
    "## A Workflow For Thinking About the Problem And The Solution"
   ]
  },
  {
   "cell_type": "markdown",
   "metadata": {},
   "source": [
    "1. Identify problem area.\n",
    "2. Collect and clean the data.\n",
    "3. Explore the data\n",
    "4. Model data (optional).\n",
    "5. Communicate and visualize results.\n",
    "6. Repeat various steps until you and/or a domain expert is satisfied."
   ]
  },
  {
   "cell_type": "markdown",
   "metadata": {},
   "source": [
    "## Step 1: Identify The Question\n",
    "----------------------------------------"
   ]
  },
  {
   "cell_type": "markdown",
   "metadata": {},
   "source": [
    "In which areas do Python programmers struggle the most?  "
   ]
  },
  {
   "cell_type": "markdown",
   "metadata": {},
   "source": [
    "## Step 2: Identify and collect the data\n",
    "------------------------------------------------"
   ]
  },
  {
   "cell_type": "markdown",
   "metadata": {},
   "source": [
    "Stack Overflow has a lot of excellent data.  \n",
    "\n",
    "Say that you don't want to use their API for some reason.  So instead you're going to scrape their pages.  Go find the best pages for Python information and scrape them."
   ]
  },
  {
   "cell_type": "code",
   "execution_count": null,
   "metadata": {},
   "outputs": [],
   "source": [
    "STACK_OVERFLOW_URL = \"https://stackoverflow.com/questions/tagged/python?sort=votes&pageSize=15\""
   ]
  },
  {
   "cell_type": "markdown",
   "metadata": {},
   "source": [
    "This is a rather small batch of data, but it's good to have a small batch to experiment with."
   ]
  },
  {
   "cell_type": "code",
   "execution_count": null,
   "metadata": {},
   "outputs": [],
   "source": [
    "# STACK_OVERFLOW_URL = \"https://stackoverflow.com/questions/tagged/python?page=1&sort=frequent&pagesize=50\""
   ]
  },
  {
   "cell_type": "markdown",
   "metadata": {},
   "source": [
    "### The `requests` library"
   ]
  },
  {
   "cell_type": "code",
   "execution_count": null,
   "metadata": {},
   "outputs": [],
   "source": [
    "import requests"
   ]
  },
  {
   "cell_type": "markdown",
   "metadata": {},
   "source": [
    "[Requests](http://docs.python-requests.org/en/master/) is a library that provides a pleasing API wrapper for HTTP requests, i.e., makes sending cumbersome-looking requests out of pleasing Python code.  Getting the text from a webpage is as simple as one line of code:"
   ]
  },
  {
   "cell_type": "code",
   "execution_count": null,
   "metadata": {},
   "outputs": [],
   "source": [
    "stack_overflow_response = requests.get(STACK_OVERFLOW_URL)\n",
    "\n",
    "stack_overflow_html = stack_overflow_response.content\n",
    "\n",
    "# print(stack_overflow_html)"
   ]
  },
  {
   "cell_type": "markdown",
   "metadata": {},
   "source": [
    "However, this data is just a mass of text at this point.  It needs to be parsed into a usable data structure...."
   ]
  },
  {
   "cell_type": "markdown",
   "metadata": {},
   "source": [
    "## Step 3: Explore the Data\n",
    "----------------------------------"
   ]
  },
  {
   "cell_type": "markdown",
   "metadata": {},
   "source": [
    "### The `BeautifulSoup` library\n",
    "\n",
    "[Beautiful Soup](https://www.crummy.com/software/BeautifulSoup/) is the most popular HTML parsing in the Python package ecosystem. You tell it which parsing engine you want it to use, feed in an HTML text file, and its top-level object returns a parsable data structure (a Python version of the DOM)."
   ]
  },
  {
   "cell_type": "code",
   "execution_count": null,
   "metadata": {},
   "outputs": [],
   "source": [
    "from bs4 import BeautifulSoup\n",
    "PARSER = 'html.parser'\n",
    "\n",
    "soup = BeautifulSoup(stack_overflow_html, PARSER)\n",
    "\n",
    "# questions = soup.find_all(\"a\", \"question-hyperlink\")\n",
    "questions = soup.find_all(\"div\", class_=\"question-summary\")\n",
    "\n",
    "# print(questions)"
   ]
  },
  {
   "cell_type": "markdown",
   "metadata": {},
   "source": [
    "OK, so now we have an array of Beautiful Soup objects:"
   ]
  },
  {
   "cell_type": "code",
   "execution_count": null,
   "metadata": {},
   "outputs": [],
   "source": [
    "print('TYPE: ', type(questions[0]))"
   ]
  },
  {
   "cell_type": "markdown",
   "metadata": {},
   "source": [
    "Now use the `text` method on the Beautiful Soup Tag object to get the meat\n",
    "of the data that you want:"
   ]
  },
  {
   "cell_type": "code",
   "execution_count": null,
   "metadata": {},
   "outputs": [],
   "source": [
    "dataset = []\n",
    "\n",
    "for i in range(0, len(questions)):\n",
    "#     print(questions[i])\n",
    "    text = questions[i].find(class_='question-hyperlink').text\n",
    "    print(questions[i].find(class_='supernova'))\n",
    "    votes = questions[i].find(class_='supernova')['title'].split(\" \")[0].replace(',','')\n",
    "#     print(text, votes)\n",
    "    split_text = text.split(\" \")\n",
    "    \n",
    "    for x in range(len(split_text)):\n",
    "        row = (split_text[x], int(votes))\n",
    "        dataset.append(row)\n",
    "\n",
    "print(dataset)"
   ]
  },
  {
   "cell_type": "markdown",
   "metadata": {},
   "source": []
  },
  {
   "cell_type": "markdown",
   "metadata": {},
   "source": [
    "Normally I would extract 100s of pages of this data and put it in separate files.\n",
    "\n",
    "But today, we're just looking for an in-memory example.  We will instead output it into a Python array."
   ]
  },
  {
   "cell_type": "code",
   "execution_count": null,
   "metadata": {},
   "outputs": [],
   "source": [
    "# Use this code if I want to switch between files.\n",
    "\n",
    "# with open('data.txt', 'r') as f:\n",
    "#     res = f.readlines()\n",
    "\n",
    "# res = [x.split(\" \") for x in [y.strip() for y in res]]\n",
    "\n",
    "# flattened_res = [item for sublist in res for item in sublist]\n"
   ]
  },
  {
   "cell_type": "markdown",
   "metadata": {},
   "source": [
    "## Step 3: Exploratory Data Analysis\n"
   ]
  },
  {
   "cell_type": "markdown",
   "metadata": {},
   "source": [
    "### `ndarray` -- n-dimensions of your data."
   ]
  },
  {
   "cell_type": "markdown",
   "metadata": {},
   "source": [
    "So this data looks like it has two dimensions - the number of votes you have and all of the text. Let's separate that out with some simple Python."
   ]
  },
  {
   "cell_type": "code",
   "execution_count": null,
   "metadata": {},
   "outputs": [],
   "source": [
    "import numpy as np\n",
    "\n",
    "topics = np.array(dataset, dtype=(string, int))\n",
    "\n",
    "print(topics)"
   ]
  },
  {
   "cell_type": "markdown",
   "metadata": {},
   "source": [
    "### Pandas Dataframes"
   ]
  },
  {
   "cell_type": "code",
   "execution_count": null,
   "metadata": {},
   "outputs": [],
   "source": [
    "import pandas as pd\n",
    "\n",
    "df = pd.DataFrame(dataset, columns=[\"word\", \"votes\"])\n",
    "print(df)"
   ]
  },
  {
   "cell_type": "code",
   "execution_count": null,
   "metadata": {},
   "outputs": [],
   "source": [
    "df2 = df.groupby(by='word').mean()\n",
    "# print(df."
   ]
  },
  {
   "cell_type": "code",
   "execution_count": null,
   "metadata": {},
   "outputs": [],
   "source": [
    "print(df2)"
   ]
  },
  {
   "cell_type": "markdown",
   "metadata": {},
   "source": [
    "### Pandas DataFrames"
   ]
  },
  {
   "cell_type": "markdown",
   "metadata": {},
   "source": [
    "## Step 4: Model The Data\n",
    "---------------------------------"
   ]
  },
  {
   "cell_type": "markdown",
   "metadata": {},
   "source": [
    "## Step 5: Visualize and Communicate The Data\n",
    "------------------------------------------------------------"
   ]
  },
  {
   "cell_type": "code",
   "execution_count": null,
   "metadata": {},
   "outputs": [],
   "source": [
    "words1 = df2[0:10]\n",
    "print(words1)\n",
    "\n"
   ]
  },
  {
   "cell_type": "code",
   "execution_count": null,
   "metadata": {},
   "outputs": [],
   "source": [
    "d = {}\n",
    "for x in words1:\n",
    "    print(x)\n",
    "\n",
    "import matplotlib.pyplot as plt\n",
    "from wordcloud import WordCloud\n",
    "\n",
    "print(dir(WordCloud))\n",
    "\n",
    "wordcloud = WordCloud()\n",
    "wordcloud.generate_from_frequencies(frequencies=d)\n",
    "plt.figure()\n",
    "plt.imshow(wordcloud, interpolation=\"bilinear\")\n",
    "plt.axis(\"off\")\n",
    "plt.show()"
   ]
  },
  {
   "cell_type": "markdown",
   "metadata": {},
   "source": [
    "## Step 6: Repeat As Necessary"
   ]
  },
  {
   "cell_type": "markdown",
   "metadata": {},
   "source": [
    "## Appendix A: Resources"
   ]
  },
  {
   "cell_type": "code",
   "execution_count": null,
   "metadata": {},
   "outputs": [],
   "source": []
  },
  {
   "cell_type": "code",
   "execution_count": null,
   "metadata": {},
   "outputs": [],
   "source": []
  }
 ],
 "metadata": {
  "kernelspec": {
   "display_name": "Python 3",
   "language": "python",
   "name": "python3"
  },
  "language_info": {
   "codemirror_mode": {
    "name": "ipython",
    "version": 3
   },
   "file_extension": ".py",
   "mimetype": "text/x-python",
   "name": "python",
   "nbconvert_exporter": "python",
   "pygments_lexer": "ipython3",
   "version": "3.6.2"
  }
 },
 "nbformat": 4,
 "nbformat_minor": 1
}
